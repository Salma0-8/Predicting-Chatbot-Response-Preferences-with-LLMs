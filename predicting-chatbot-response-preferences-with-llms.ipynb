{
 "cells": [
  {
   "cell_type": "code",
   "execution_count": 1,
   "id": "8360d6fd",
   "metadata": {
    "_cell_guid": "b1076dfc-b9ad-4769-8c92-a6c4dae69d19",
    "_uuid": "8f2839f25d086af736a60e9eeb907d3b93b6e0e5",
    "execution": {
     "iopub.execute_input": "2024-10-25T10:28:15.730444Z",
     "iopub.status.busy": "2024-10-25T10:28:15.730017Z",
     "iopub.status.idle": "2024-10-25T10:28:16.869323Z",
     "shell.execute_reply": "2024-10-25T10:28:16.868121Z"
    },
    "papermill": {
     "duration": 1.147657,
     "end_time": "2024-10-25T10:28:16.872296",
     "exception": false,
     "start_time": "2024-10-25T10:28:15.724639",
     "status": "completed"
    },
    "tags": []
   },
   "outputs": [
    {
     "name": "stdout",
     "output_type": "stream",
     "text": [
      "/kaggle/input/llm-classification-finetuning/sample_submission.csv\n",
      "/kaggle/input/llm-classification-finetuning/train.csv\n",
      "/kaggle/input/llm-classification-finetuning/test.csv\n"
     ]
    }
   ],
   "source": [
    "# This Python 3 environment comes with many helpful analytics libraries installed\n",
    "# It is defined by the kaggle/python Docker image: https://github.com/kaggle/docker-python\n",
    "# For example, here's several helpful packages to load\n",
    "\n",
    "import numpy as np # linear algebra\n",
    "import pandas as pd # data processing, CSV file I/O (e.g. pd.read_csv)\n",
    "\n",
    "# Input data files are available in the read-only \"../input/\" directory\n",
    "# For example, running this (by clicking run or pressing Shift+Enter) will list all files under the input directory\n",
    "\n",
    "import os\n",
    "for dirname, _, filenames in os.walk('/kaggle/input'):\n",
    "    for filename in filenames:\n",
    "        print(os.path.join(dirname, filename))\n",
    "\n",
    "# You can write up to 20GB to the current directory (/kaggle/working/) that gets preserved as output when you create a version using \"Save & Run All\" \n",
    "# You can also write temporary files to /kaggle/temp/, but they won't be saved outside of the current session"
   ]
  },
  {
   "cell_type": "code",
   "execution_count": 2,
   "id": "38588fd6",
   "metadata": {
    "execution": {
     "iopub.execute_input": "2024-10-25T10:28:16.881811Z",
     "iopub.status.busy": "2024-10-25T10:28:16.881189Z",
     "iopub.status.idle": "2024-10-25T10:28:22.989975Z",
     "shell.execute_reply": "2024-10-25T10:28:22.988421Z"
    },
    "papermill": {
     "duration": 6.117001,
     "end_time": "2024-10-25T10:28:22.993125",
     "exception": false,
     "start_time": "2024-10-25T10:28:16.876124",
     "status": "completed"
    },
    "tags": []
   },
   "outputs": [
    {
     "data": {
      "text/html": [
       "<div>\n",
       "<style scoped>\n",
       "    .dataframe tbody tr th:only-of-type {\n",
       "        vertical-align: middle;\n",
       "    }\n",
       "\n",
       "    .dataframe tbody tr th {\n",
       "        vertical-align: top;\n",
       "    }\n",
       "\n",
       "    .dataframe thead th {\n",
       "        text-align: right;\n",
       "    }\n",
       "</style>\n",
       "<table border=\"1\" class=\"dataframe\">\n",
       "  <thead>\n",
       "    <tr style=\"text-align: right;\">\n",
       "      <th></th>\n",
       "      <th>id</th>\n",
       "      <th>model_a</th>\n",
       "      <th>model_b</th>\n",
       "      <th>prompt</th>\n",
       "      <th>response_a</th>\n",
       "      <th>response_b</th>\n",
       "      <th>winner_model_a</th>\n",
       "      <th>winner_model_b</th>\n",
       "      <th>winner_tie</th>\n",
       "    </tr>\n",
       "  </thead>\n",
       "  <tbody>\n",
       "    <tr>\n",
       "      <th>0</th>\n",
       "      <td>30192</td>\n",
       "      <td>gpt-4-1106-preview</td>\n",
       "      <td>gpt-4-0613</td>\n",
       "      <td>[\"Is it morally right to try to have a certain...</td>\n",
       "      <td>[\"The question of whether it is morally right ...</td>\n",
       "      <td>[\"As an AI, I don't have personal beliefs or o...</td>\n",
       "      <td>1</td>\n",
       "      <td>0</td>\n",
       "      <td>0</td>\n",
       "    </tr>\n",
       "    <tr>\n",
       "      <th>1</th>\n",
       "      <td>53567</td>\n",
       "      <td>koala-13b</td>\n",
       "      <td>gpt-4-0613</td>\n",
       "      <td>[\"What is the difference between marriage lice...</td>\n",
       "      <td>[\"A marriage license is a legal document that ...</td>\n",
       "      <td>[\"A marriage license and a marriage certificat...</td>\n",
       "      <td>0</td>\n",
       "      <td>1</td>\n",
       "      <td>0</td>\n",
       "    </tr>\n",
       "    <tr>\n",
       "      <th>2</th>\n",
       "      <td>65089</td>\n",
       "      <td>gpt-3.5-turbo-0613</td>\n",
       "      <td>mistral-medium</td>\n",
       "      <td>[\"explain function calling. how would you call...</td>\n",
       "      <td>[\"Function calling is the process of invoking ...</td>\n",
       "      <td>[\"Function calling is the process of invoking ...</td>\n",
       "      <td>0</td>\n",
       "      <td>0</td>\n",
       "      <td>1</td>\n",
       "    </tr>\n",
       "    <tr>\n",
       "      <th>3</th>\n",
       "      <td>96401</td>\n",
       "      <td>llama-2-13b-chat</td>\n",
       "      <td>mistral-7b-instruct</td>\n",
       "      <td>[\"How can I create a test set for a very rare ...</td>\n",
       "      <td>[\"Creating a test set for a very rare category...</td>\n",
       "      <td>[\"When building a classifier for a very rare c...</td>\n",
       "      <td>1</td>\n",
       "      <td>0</td>\n",
       "      <td>0</td>\n",
       "    </tr>\n",
       "    <tr>\n",
       "      <th>4</th>\n",
       "      <td>198779</td>\n",
       "      <td>koala-13b</td>\n",
       "      <td>gpt-3.5-turbo-0314</td>\n",
       "      <td>[\"What is the best way to travel from Tel-Aviv...</td>\n",
       "      <td>[\"The best way to travel from Tel Aviv to Jeru...</td>\n",
       "      <td>[\"The best way to travel from Tel-Aviv to Jeru...</td>\n",
       "      <td>0</td>\n",
       "      <td>1</td>\n",
       "      <td>0</td>\n",
       "    </tr>\n",
       "  </tbody>\n",
       "</table>\n",
       "</div>"
      ],
      "text/plain": [
       "       id             model_a              model_b  \\\n",
       "0   30192  gpt-4-1106-preview           gpt-4-0613   \n",
       "1   53567           koala-13b           gpt-4-0613   \n",
       "2   65089  gpt-3.5-turbo-0613       mistral-medium   \n",
       "3   96401    llama-2-13b-chat  mistral-7b-instruct   \n",
       "4  198779           koala-13b   gpt-3.5-turbo-0314   \n",
       "\n",
       "                                              prompt  \\\n",
       "0  [\"Is it morally right to try to have a certain...   \n",
       "1  [\"What is the difference between marriage lice...   \n",
       "2  [\"explain function calling. how would you call...   \n",
       "3  [\"How can I create a test set for a very rare ...   \n",
       "4  [\"What is the best way to travel from Tel-Aviv...   \n",
       "\n",
       "                                          response_a  \\\n",
       "0  [\"The question of whether it is morally right ...   \n",
       "1  [\"A marriage license is a legal document that ...   \n",
       "2  [\"Function calling is the process of invoking ...   \n",
       "3  [\"Creating a test set for a very rare category...   \n",
       "4  [\"The best way to travel from Tel Aviv to Jeru...   \n",
       "\n",
       "                                          response_b  winner_model_a  \\\n",
       "0  [\"As an AI, I don't have personal beliefs or o...               1   \n",
       "1  [\"A marriage license and a marriage certificat...               0   \n",
       "2  [\"Function calling is the process of invoking ...               0   \n",
       "3  [\"When building a classifier for a very rare c...               1   \n",
       "4  [\"The best way to travel from Tel-Aviv to Jeru...               0   \n",
       "\n",
       "   winner_model_b  winner_tie  \n",
       "0               0           0  \n",
       "1               1           0  \n",
       "2               0           1  \n",
       "3               0           0  \n",
       "4               1           0  "
      ]
     },
     "execution_count": 2,
     "metadata": {},
     "output_type": "execute_result"
    }
   ],
   "source": [
    "import pandas as pd\n",
    "import numpy as np\n",
    "from sklearn.model_selection import train_test_split\n",
    "from sklearn.feature_extraction.text import TfidfVectorizer\n",
    "from sklearn.linear_model import LogisticRegression\n",
    "from sklearn.ensemble import RandomForestClassifier\n",
    "from sklearn.metrics import log_loss\n",
    "import re\n",
    "\n",
    "train = pd.read_csv('/kaggle/input/llm-classification-finetuning/train.csv')\n",
    "test = pd.read_csv('/kaggle/input/llm-classification-finetuning/test.csv')\n",
    "sample_submission = pd.read_csv('/kaggle/input/llm-classification-finetuning/sample_submission.csv')\n",
    "train.head()"
   ]
  },
  {
   "cell_type": "code",
   "execution_count": 3,
   "id": "86bef92b",
   "metadata": {
    "execution": {
     "iopub.execute_input": "2024-10-25T10:28:23.005832Z",
     "iopub.status.busy": "2024-10-25T10:28:23.004554Z",
     "iopub.status.idle": "2024-10-25T10:28:39.518546Z",
     "shell.execute_reply": "2024-10-25T10:28:39.517185Z"
    },
    "papermill": {
     "duration": 16.523977,
     "end_time": "2024-10-25T10:28:39.521393",
     "exception": false,
     "start_time": "2024-10-25T10:28:22.997416",
     "status": "completed"
    },
    "tags": []
   },
   "outputs": [],
   "source": [
    "# Step 3: Data Cleaning and Preprocessing\n",
    "def preprocess_text(text):\n",
    "    text = text.lower()\n",
    "    text = re.sub(r'\\s+', ' ', text)\n",
    "    text = re.sub(r'[^\\w\\s]', '', text)\n",
    "    return text\n",
    "\n",
    "train['prompt'] = train['prompt'].apply(preprocess_text)\n",
    "train['response_a'] = train['response_a'].apply(preprocess_text)\n",
    "train['response_b'] = train['response_b'].apply(preprocess_text)\n",
    "\n",
    "test['prompt'] = test['prompt'].apply(preprocess_text)\n",
    "test['response_a'] = test['response_a'].apply(preprocess_text)\n",
    "test['response_b'] = test['response_b'].apply(preprocess_text)"
   ]
  },
  {
   "cell_type": "code",
   "execution_count": 4,
   "id": "1eee8dbd",
   "metadata": {
    "execution": {
     "iopub.execute_input": "2024-10-25T10:28:39.531315Z",
     "iopub.status.busy": "2024-10-25T10:28:39.530078Z",
     "iopub.status.idle": "2024-10-25T10:29:08.753398Z",
     "shell.execute_reply": "2024-10-25T10:29:08.751959Z"
    },
    "papermill": {
     "duration": 29.231737,
     "end_time": "2024-10-25T10:29:08.756791",
     "exception": false,
     "start_time": "2024-10-25T10:28:39.525054",
     "status": "completed"
    },
    "tags": []
   },
   "outputs": [],
   "source": [
    "# Step 4: Feature Engineering\n",
    "# Using TF-IDF (Term Frequency-Inverse Document Frequency) to transform textual data into numerical features.\n",
    "tfidf = TfidfVectorizer(max_features=1000)\n",
    "train['combined_text_a'] = train['prompt'] + \" \" + train['response_a']\n",
    "train['combined_text_b'] = train['prompt'] + \" \" + train['response_b']\n",
    "\n",
    "tfidf_train_a = tfidf.fit_transform(train['combined_text_a'])\n",
    "tfidf_train_b = tfidf.transform(train['combined_text_b'])\n",
    "X_train = np.hstack((tfidf_train_a.toarray(), tfidf_train_b.toarray()))\n",
    "y_train = train[['winner_model_a', 'winner_model_b', 'winner_tie']].values\n",
    "test['combined_text_a'] = test['prompt'] + \" \" + test['response_a']\n",
    "test['combined_text_b'] = test['prompt'] + \" \" + test['response_b']\n",
    "\n",
    "tfidf_test_a = tfidf.transform(test['combined_text_a'])\n",
    "tfidf_test_b = tfidf.transform(test['combined_text_b'])\n",
    "\n",
    "X_test = np.hstack((tfidf_test_a.toarray(), tfidf_test_b.toarray()))"
   ]
  },
  {
   "cell_type": "code",
   "execution_count": 5,
   "id": "b169d83a",
   "metadata": {
    "execution": {
     "iopub.execute_input": "2024-10-25T10:29:08.772861Z",
     "iopub.status.busy": "2024-10-25T10:29:08.772362Z",
     "iopub.status.idle": "2024-10-25T10:29:09.431294Z",
     "shell.execute_reply": "2024-10-25T10:29:09.429474Z"
    },
    "papermill": {
     "duration": 0.670413,
     "end_time": "2024-10-25T10:29:09.433922",
     "exception": false,
     "start_time": "2024-10-25T10:29:08.763509",
     "status": "completed"
    },
    "tags": []
   },
   "outputs": [
    {
     "name": "stdout",
     "output_type": "stream",
     "text": [
      "Unique labels in y_train: [-1  0  1]\n"
     ]
    }
   ],
   "source": [
    "train['label'] = train.apply(lambda x: 1 if x['winner_model_a'] == 1 else (0 if x['winner_model_b'] == 1 else -1), axis=1)\n",
    "y_train = train['label'].values \n",
    "print(\"Unique labels in y_train:\", np.unique(y_train))"
   ]
  },
  {
   "cell_type": "code",
   "execution_count": 6,
   "id": "c368ae5d",
   "metadata": {
    "execution": {
     "iopub.execute_input": "2024-10-25T10:29:09.443283Z",
     "iopub.status.busy": "2024-10-25T10:29:09.442740Z",
     "iopub.status.idle": "2024-10-25T10:30:28.733416Z",
     "shell.execute_reply": "2024-10-25T10:30:28.731975Z"
    },
    "papermill": {
     "duration": 79.305449,
     "end_time": "2024-10-25T10:30:28.743054",
     "exception": false,
     "start_time": "2024-10-25T10:29:09.437605",
     "status": "completed"
    },
    "tags": []
   },
   "outputs": [
    {
     "data": {
      "text/html": [
       "<style>#sk-container-id-1 {color: black;background-color: white;}#sk-container-id-1 pre{padding: 0;}#sk-container-id-1 div.sk-toggleable {background-color: white;}#sk-container-id-1 label.sk-toggleable__label {cursor: pointer;display: block;width: 100%;margin-bottom: 0;padding: 0.3em;box-sizing: border-box;text-align: center;}#sk-container-id-1 label.sk-toggleable__label-arrow:before {content: \"▸\";float: left;margin-right: 0.25em;color: #696969;}#sk-container-id-1 label.sk-toggleable__label-arrow:hover:before {color: black;}#sk-container-id-1 div.sk-estimator:hover label.sk-toggleable__label-arrow:before {color: black;}#sk-container-id-1 div.sk-toggleable__content {max-height: 0;max-width: 0;overflow: hidden;text-align: left;background-color: #f0f8ff;}#sk-container-id-1 div.sk-toggleable__content pre {margin: 0.2em;color: black;border-radius: 0.25em;background-color: #f0f8ff;}#sk-container-id-1 input.sk-toggleable__control:checked~div.sk-toggleable__content {max-height: 200px;max-width: 100%;overflow: auto;}#sk-container-id-1 input.sk-toggleable__control:checked~label.sk-toggleable__label-arrow:before {content: \"▾\";}#sk-container-id-1 div.sk-estimator input.sk-toggleable__control:checked~label.sk-toggleable__label {background-color: #d4ebff;}#sk-container-id-1 div.sk-label input.sk-toggleable__control:checked~label.sk-toggleable__label {background-color: #d4ebff;}#sk-container-id-1 input.sk-hidden--visually {border: 0;clip: rect(1px 1px 1px 1px);clip: rect(1px, 1px, 1px, 1px);height: 1px;margin: -1px;overflow: hidden;padding: 0;position: absolute;width: 1px;}#sk-container-id-1 div.sk-estimator {font-family: monospace;background-color: #f0f8ff;border: 1px dotted black;border-radius: 0.25em;box-sizing: border-box;margin-bottom: 0.5em;}#sk-container-id-1 div.sk-estimator:hover {background-color: #d4ebff;}#sk-container-id-1 div.sk-parallel-item::after {content: \"\";width: 100%;border-bottom: 1px solid gray;flex-grow: 1;}#sk-container-id-1 div.sk-label:hover label.sk-toggleable__label {background-color: #d4ebff;}#sk-container-id-1 div.sk-serial::before {content: \"\";position: absolute;border-left: 1px solid gray;box-sizing: border-box;top: 0;bottom: 0;left: 50%;z-index: 0;}#sk-container-id-1 div.sk-serial {display: flex;flex-direction: column;align-items: center;background-color: white;padding-right: 0.2em;padding-left: 0.2em;position: relative;}#sk-container-id-1 div.sk-item {position: relative;z-index: 1;}#sk-container-id-1 div.sk-parallel {display: flex;align-items: stretch;justify-content: center;background-color: white;position: relative;}#sk-container-id-1 div.sk-item::before, #sk-container-id-1 div.sk-parallel-item::before {content: \"\";position: absolute;border-left: 1px solid gray;box-sizing: border-box;top: 0;bottom: 0;left: 50%;z-index: -1;}#sk-container-id-1 div.sk-parallel-item {display: flex;flex-direction: column;z-index: 1;position: relative;background-color: white;}#sk-container-id-1 div.sk-parallel-item:first-child::after {align-self: flex-end;width: 50%;}#sk-container-id-1 div.sk-parallel-item:last-child::after {align-self: flex-start;width: 50%;}#sk-container-id-1 div.sk-parallel-item:only-child::after {width: 0;}#sk-container-id-1 div.sk-dashed-wrapped {border: 1px dashed gray;margin: 0 0.4em 0.5em 0.4em;box-sizing: border-box;padding-bottom: 0.4em;background-color: white;}#sk-container-id-1 div.sk-label label {font-family: monospace;font-weight: bold;display: inline-block;line-height: 1.2em;}#sk-container-id-1 div.sk-label-container {text-align: center;}#sk-container-id-1 div.sk-container {/* jupyter's `normalize.less` sets `[hidden] { display: none; }` but bootstrap.min.css set `[hidden] { display: none !important; }` so we also need the `!important` here to be able to override the default hidden behavior on the sphinx rendered scikit-learn.org. See: https://github.com/scikit-learn/scikit-learn/issues/21755 */display: inline-block !important;position: relative;}#sk-container-id-1 div.sk-text-repr-fallback {display: none;}</style><div id=\"sk-container-id-1\" class=\"sk-top-container\"><div class=\"sk-text-repr-fallback\"><pre>LogisticRegression(max_iter=1000, multi_class=&#x27;multinomial&#x27;)</pre><b>In a Jupyter environment, please rerun this cell to show the HTML representation or trust the notebook. <br />On GitHub, the HTML representation is unable to render, please try loading this page with nbviewer.org.</b></div><div class=\"sk-container\" hidden><div class=\"sk-item\"><div class=\"sk-estimator sk-toggleable\"><input class=\"sk-toggleable__control sk-hidden--visually\" id=\"sk-estimator-id-1\" type=\"checkbox\" checked><label for=\"sk-estimator-id-1\" class=\"sk-toggleable__label sk-toggleable__label-arrow\">LogisticRegression</label><div class=\"sk-toggleable__content\"><pre>LogisticRegression(max_iter=1000, multi_class=&#x27;multinomial&#x27;)</pre></div></div></div></div></div>"
      ],
      "text/plain": [
       "LogisticRegression(max_iter=1000, multi_class='multinomial')"
      ]
     },
     "execution_count": 6,
     "metadata": {},
     "output_type": "execute_result"
    }
   ],
   "source": [
    "# Step 5: Model Selection and Training\n",
    "# I’ll use a Logistic Regression model, as it’s effective for binary/multiclass classification with probability outputs.\n",
    "model = LogisticRegression(max_iter=1000, multi_class='multinomial')\n",
    "model.fit(X_train, y_train)"
   ]
  },
  {
   "cell_type": "code",
   "execution_count": 7,
   "id": "f62e03b5",
   "metadata": {
    "execution": {
     "iopub.execute_input": "2024-10-25T10:30:28.760728Z",
     "iopub.status.busy": "2024-10-25T10:30:28.760108Z",
     "iopub.status.idle": "2024-10-25T10:30:29.210546Z",
     "shell.execute_reply": "2024-10-25T10:30:29.209321Z"
    },
    "papermill": {
     "duration": 0.463314,
     "end_time": "2024-10-25T10:30:29.213822",
     "exception": false,
     "start_time": "2024-10-25T10:30:28.750508",
     "status": "completed"
    },
    "tags": []
   },
   "outputs": [
    {
     "name": "stdout",
     "output_type": "stream",
     "text": [
      "Log Loss on Validation Set: 1.0094023279049487\n"
     ]
    }
   ],
   "source": [
    "# Step 6: Model Evaluation - Cross-Validation and Log Loss Calculation\n",
    "# Evaluating the model using log loss on a validation set.\n",
    "X_train_split, X_val_split, y_train_split, y_val_split = train_test_split(X_train, y_train, test_size=0.2, random_state=42)\n",
    "val_preds = model.predict_proba(X_val_split)\n",
    "log_loss_score = log_loss(y_val_split, val_preds)\n",
    "print(f'Log Loss on Validation Set: {log_loss_score}')"
   ]
  },
  {
   "cell_type": "code",
   "execution_count": 8,
   "id": "dbf1552b",
   "metadata": {
    "execution": {
     "iopub.execute_input": "2024-10-25T10:30:29.230407Z",
     "iopub.status.busy": "2024-10-25T10:30:29.229801Z",
     "iopub.status.idle": "2024-10-25T10:30:29.249847Z",
     "shell.execute_reply": "2024-10-25T10:30:29.248051Z"
    },
    "papermill": {
     "duration": 0.032716,
     "end_time": "2024-10-25T10:30:29.253829",
     "exception": false,
     "start_time": "2024-10-25T10:30:29.221113",
     "status": "completed"
    },
    "tags": []
   },
   "outputs": [],
   "source": [
    "# Step 7: Predictions on Test Set\n",
    "test_preds = model.predict_proba(X_test)\n",
    "submission = pd.DataFrame({\n",
    "    'id': test['id'],\n",
    "    'winner_model_a': test_preds[:, 0],\n",
    "    'winner_model_b': test_preds[:, 1],\n",
    "    'winner_tie': test_preds[:, 2]\n",
    "})\n",
    "submission.to_csv('submission.csv', index=False)"
   ]
  }
 ],
 "metadata": {
  "kaggle": {
   "accelerator": "none",
   "dataSources": [
    {
     "databundleVersionId": 9809560,
     "sourceId": 86518,
     "sourceType": "competition"
    }
   ],
   "dockerImageVersionId": 30786,
   "isGpuEnabled": false,
   "isInternetEnabled": true,
   "language": "python",
   "sourceType": "notebook"
  },
  "kernelspec": {
   "display_name": "Python 3",
   "language": "python",
   "name": "python3"
  },
  "language_info": {
   "codemirror_mode": {
    "name": "ipython",
    "version": 3
   },
   "file_extension": ".py",
   "mimetype": "text/x-python",
   "name": "python",
   "nbconvert_exporter": "python",
   "pygments_lexer": "ipython3",
   "version": "3.10.14"
  },
  "papermill": {
   "default_parameters": {},
   "duration": 137.705728,
   "end_time": "2024-10-25T10:30:30.188863",
   "environment_variables": {},
   "exception": null,
   "input_path": "__notebook__.ipynb",
   "output_path": "__notebook__.ipynb",
   "parameters": {},
   "start_time": "2024-10-25T10:28:12.483135",
   "version": "2.6.0"
  }
 },
 "nbformat": 4,
 "nbformat_minor": 5
}
